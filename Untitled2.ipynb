{
  "nbformat": 4,
  "nbformat_minor": 0,
  "metadata": {
    "colab": {
      "provenance": [],
      "authorship_tag": "ABX9TyOG0dFCBAQLELEn9RpX3ktm",
      "include_colab_link": true
    },
    "kernelspec": {
      "name": "python3",
      "display_name": "Python 3"
    },
    "language_info": {
      "name": "python"
    }
  },
  "cells": [
    {
      "cell_type": "markdown",
      "metadata": {
        "id": "view-in-github",
        "colab_type": "text"
      },
      "source": [
        "<a href=\"https://colab.research.google.com/github/iluvsys2/web1/blob/main/Untitled2.ipynb\" target=\"_parent\"><img src=\"https://colab.research.google.com/assets/colab-badge.svg\" alt=\"Open In Colab\"/></a>"
      ]
    },
    {
      "cell_type": "code",
      "execution_count": 1,
      "metadata": {
        "colab": {
          "base_uri": "https://localhost:8080/"
        },
        "id": "3K_FlHdqQB4k",
        "outputId": "96af6561-1f5d-43bf-e9b5-8517d12467db"
      },
      "outputs": [
        {
          "output_type": "stream",
          "name": "stdout",
          "text": [
            "It is a truth universally acknowledged, that a single man in possession\r\n",
            "of a good fortune must be in want of a wife.\n"
          ]
        }
      ],
      "source": [
        "import requests\n",
        "url = \"https://www.gutenberg.org/files/1342/1342-0.txt\"\n",
        "pandp = requests.get(url).text\n",
        "start = pandp.find(\"It is a truth\")\n",
        "pandp = pandp[start:]\n",
        "end = pandp.find(\".\")\n",
        "print(pandp[0:end+1])\n"
      ]
    }
  ]
}